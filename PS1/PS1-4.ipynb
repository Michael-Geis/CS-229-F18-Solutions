{
 "cells": [
  {
   "attachments": {},
   "cell_type": "markdown",
   "metadata": {},
   "source": [
    "# PS1-4: Convexity of General Linear Models"
   ]
  },
  {
   "attachments": {},
   "cell_type": "markdown",
   "metadata": {},
   "source": [
    "## (A)\n",
    "#### Derive an expression for the mean of an exponential distribution\n",
    "\n",
    "Suppose that $p(y,\\eta) = b(y)\\exp\\left(y \\cdot \\eta - a(\\eta) \\right)$.\n",
    "\n",
    "$$0 = \\nabla_\\eta \\int b(y)\\exp\\left(y \\cdot \\eta - a(\\eta) \\right) \\, dy = \\int (y - \\nabla a) b(y)\\exp\\left(y \\cdot\\eta - a(\\eta)\\right) $$\n",
    "\n",
    "which implies $E[p] = \\nabla a$."
   ]
  },
  {
   "attachments": {},
   "cell_type": "markdown",
   "metadata": {},
   "source": [
    "## (B)\n",
    "#### Show that the variance is equal to the Hessian of the log partition function $a(\\eta)$.\n",
    "\n",
    "Suppose that $X \\sim p$.\n",
    "\n",
    "$$E[(X - \\nabla a)(X - \\nabla a)^T] = E[XX^T - 2X \\cdot \\nabla a + (\\nabla a)(\\nabla a)^T] = E[XX^T] - [(\\nabla a)(\\nabla a)^T]$$\n",
    "\n",
    "Now, \n",
    "\n",
    "$$\\nabla^2 a = \\int y(y-\\nabla a)^T b(y) \\exp \\left( y\\cdot \\eta - a(\\eta) \\right) = E[XX^T] - E[X (\\nabla a)^T]  = E[XX^T] - (\\nabla a)(\\nabla a)^T$$"
   ]
  },
  {
   "attachments": {},
   "cell_type": "markdown",
   "metadata": {},
   "source": [
    "## (C)\n",
    "#### Show that the negative log likelihood (NLL) of an exponential distribution with $\\eta = x \\cdot \\theta$ is convex with respect to $\\theta$.\n",
    "\n",
    "$$\\ell(\\theta) = -\\log q(y , x \\cdot \\theta ) = \\log b(y) - y (x \\cdot \\theta)  + a(x\\cdot\\theta) $$\n",
    "\n",
    "so $$\\nabla \\ell = (-y + a'(x\\cdot\\theta))x $$\n",
    "\n",
    "$$\\nabla^2 \\ell = a''(x\\cdot\\theta)xx^T \\geq 0$$\n",
    "\n",
    "since $a''(\\eta) \\geq 0$ is the variance of this distribution.\n",
    "\n"
   ]
  }
 ],
 "metadata": {
  "language_info": {
   "name": "python"
  },
  "orig_nbformat": 4
 },
 "nbformat": 4,
 "nbformat_minor": 2
}
