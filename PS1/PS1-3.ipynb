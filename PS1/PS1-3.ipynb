{
 "cells": [
  {
   "attachments": {},
   "cell_type": "markdown",
   "metadata": {},
   "source": [
    "# PS1-3: Poisson Regression"
   ]
  },
  {
   "attachments": {},
   "cell_type": "markdown",
   "metadata": {},
   "source": [
    "## (A)\n",
    "#### Show that the Poisson distribution is in the exponential family\n",
    "\n",
    "Recall that that the Poisson distribution with parameter $\\lambda$ is the discrete distribution \n",
    "\n",
    "$$p(y,\\lambda) = \\sum_{y=0}^\\infty e^{-\\lambda}\\frac{\\lambda^y}{y!}.$$\n",
    "\n",
    "A distribution is in the exponential family with parameter $\\eta$ if it can be written\n",
    "\n",
    "$$q(y,\\eta) = b(y)\\exp \\left(\\eta^T T(y) - a(\\eta) \\right)$$\n",
    "\n",
    "notice that the Poisson distribution can be written\n",
    "\n",
    "$$p(y,\\lambda) = \\frac{1}{y!} \\exp \\left( y \\log \\lambda - \\lambda \\right).$$\n",
    "\n",
    "therefore, $T(y) = y$, $\\eta = \\log \\lambda$, $a(\\eta) = e^\\eta$.\n"
   ]
  },
  {
   "attachments": {},
   "cell_type": "markdown",
   "metadata": {},
   "source": [
    "## (B)\n",
    "#### What is the canonical response function for this family?\n",
    "\n",
    "The canonical response function is $g(\\eta) = E[T(y);\\eta]$. In this case $T(y) = y$, so\n",
    "\n",
    "$$g(\\eta) = E[p(y,\\lambda)] = \\sum_{y=1}^\\infty e^{-\\lambda} \\frac{\\lambda^y}{(y-1)!} = \\lambda = e^{\\eta}.$$"
   ]
  },
  {
   "attachments": {},
   "cell_type": "markdown",
   "metadata": {},
   "source": [
    "## (C)\n",
    "#### Derive the gradient ascent update rule for the negative conditional log likelihood of this GLM\n",
    "\n",
    "Let $\\eta^{(i)} = x^{(i)}\\cdot\\theta$ and assume that $y^{(i)} | x^{(i)} \\sim q(y^{(i)}, \\eta^{(i)})$. The log likelihood is\n",
    "\n",
    "$$J(\\theta) = \\frac{1}{m}\\sum_{i=0}^m \\log q(y^{(i)},\\eta^{(i)}) = \\frac{1}{m}\\sum_{i=0}^m -\\log y^{(i)}! + y^{(i)}(x^{(i)}\\cdot\\theta) - e^{x^{(i)}\\cdot\\theta} $$\n",
    "\n",
    "therefore the (batch) gradient is\n",
    "\n",
    "$$\\nabla J = \\frac{1}{m}\\sum_{i=0}^m\\left(y^{(i)} - e^{x^{(i)} \\cdot \\theta} \\right)x^{(i)}$$\n",
    "\n",
    "so the stochastic gradient ascent update rule at step $i$ with learning rate $\\alpha$ is \n",
    "\n",
    "$$\\theta \\mapsto \\theta + \\alpha (y^{(i)} - e^{x^{(i)}\\cdot\\theta})x^{(i)}$$\n"
   ]
  },
  {
   "attachments": {},
   "cell_type": "markdown",
   "metadata": {},
   "source": [
    "## (D)\n",
    "#### Implement Poisson regression to model the data in ds4_{train,valid}.csv. Use gradient ascent to find the value of $\\theta$ which maximizes the log-likelihood of the training data. Save predictions on the validation set to the output folder under the name 'p03c_poisson_pred.txt'"
   ]
  },
  {
   "cell_type": "code",
   "execution_count": 10,
   "metadata": {},
   "outputs": [],
   "source": [
    "from src import util\n",
    "from src.p03d_poisson import PoissonRegression\n",
    "import numpy as np"
   ]
  },
  {
   "cell_type": "code",
   "execution_count": 32,
   "metadata": {},
   "outputs": [
    {
     "name": "stdout",
     "output_type": "stream",
     "text": [
      "Gradient ascent converged after 852 iterations.\n"
     ]
    }
   ],
   "source": [
    "\n",
    "## Load the datasets\n",
    "x_train , y_train = util.load_dataset('./data/ds4_train.csv')\n",
    "x_valid , y_valid = util.load_dataset('./data/ds4_valid.csv')\n",
    "\n",
    "## Create and train model\n",
    "poissonreg_model = PoissonRegression(max_iter=1e4,step_size=1e-7)\n",
    "poissonreg_model.fit(util.add_intercept(x_train),y_train)\n",
    "\n",
    "## Use the model to predict on the validation set, save to file.\n",
    "preds = poissonreg_model.predict(x_valid)\n",
    "np.savetxt('./output/p03c_poisson_pred.txt',X=preds,delimiter=',',header='Poisson Regression predictions for ds4.')"
   ]
  }
 ],
 "metadata": {
  "kernelspec": {
   "display_name": "Python 3",
   "language": "python",
   "name": "python3"
  },
  "language_info": {
   "codemirror_mode": {
    "name": "ipython",
    "version": 3
   },
   "file_extension": ".py",
   "mimetype": "text/x-python",
   "name": "python",
   "nbconvert_exporter": "python",
   "pygments_lexer": "ipython3",
   "version": "3.10.11"
  },
  "orig_nbformat": 4
 },
 "nbformat": 4,
 "nbformat_minor": 2
}
