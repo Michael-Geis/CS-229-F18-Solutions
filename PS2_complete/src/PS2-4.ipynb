{
 "cells": [
  {
   "attachments": {},
   "cell_type": "markdown",
   "metadata": {},
   "source": [
    "# PS2-4: Constructing Kernels"
   ]
  },
  {
   "attachments": {},
   "cell_type": "markdown",
   "metadata": {},
   "source": [
    "## Introduction\n",
    "\n",
    "A function $K : \\mathbb{R}^d \\times \\mathbb{R}^d \\to \\mathbb{R}$ is called a *Mercer kernel* if\n",
    "\n",
    "1. $K$ is symmetric\n",
    "2. For any finite set $\\{x_1,\\dots,x_n\\}$ the matrix $K(x_i,x_j)$ is positive semi-definite."
   ]
  },
  {
   "attachments": {},
   "cell_type": "markdown",
   "metadata": {},
   "source": [
    "## (A)\n",
    "\n",
    "#### if $K_1$ and $K_2$ are Mercer kernels, then so is $K_1 + K_2$.\n",
    "\n",
    "True, since the sum of PSD matrices is PSD. "
   ]
  },
  {
   "attachments": {},
   "cell_type": "markdown",
   "metadata": {},
   "source": [
    "## (B)\n",
    "\n",
    "#### if $K_1$ and $K_2$ are Mercer kernels, then so is $K_1 - K_2$.\n",
    "\n",
    "False, take $K_1 = 0$ and $K_2(x,y) = x \\cdot y$, with $x_i = e_i$ the standard ONB of $\\mathbb{R}^d$. \n"
   ]
  },
  {
   "attachments": {},
   "cell_type": "markdown",
   "metadata": {},
   "source": [
    "## (C)\n",
    "\n",
    "#### if $K$ is a Mercer kernel and $a > 0$ is a positive real number, so is $aK$.\n",
    "\n",
    "True, multiplying by a positive number preserves the PSD property of a matrix."
   ]
  },
  {
   "attachments": {},
   "cell_type": "markdown",
   "metadata": {},
   "source": [
    "## (D)\n",
    "\n",
    "#### if $K$ is a Mercer kernel and $a > 0$ is a positive real number, so is $-aK$.\n",
    "\n",
    "No, obvious.\n"
   ]
  },
  {
   "attachments": {},
   "cell_type": "markdown",
   "metadata": {},
   "source": [
    "## (E)\n",
    "\n",
    "#### if $K_1$ and $K_2$ are Mercer kernels, then so is $K_1K_2$.\n",
    "\n",
    "This is true. The product is obviously symmetry, we need to argue that it is PSD. Fix any finite set of $n$ points and let $A = K_1(x_i,x_j)$, $B = K_2(x_i,x_j)$. Then $A$ and $B$ are PSD. We need to study their 'pointwise product' \n",
    "\n",
    "$$ (A \\circ B)_{ij} = A_{ij}B_{ij} $$\n",
    "\n",
    "We have the following identiy. For any $x,y \\in \\mathbb{R}^n$, let $D_x$ be the matrix with the entries of $x$ on its main diagonal with zeros elsewhere.\n",
    "\n",
    "$$x^T (A \\circ B) y = \\text{tr}\\, (D_x A D_y B^T)$$\n",
    "\n",
    "Then, to verify that $(A \\circ B)$ is PSD, we use the commutativity of matrix multiplication inside the trace.\n",
    "\n",
    "$$x^T (A \\circ B) x = \\text{tr} \\, (D_x A D_x B) = \\text{tr} ( (D_x A^{1/2})^T B (D_x A^{1/2}) )$$\n",
    "\n",
    "The matrix inside the trace is of the form $M^T B M$ which is PSD since $B$ is. The trace of a PSD matrix is non-negative, since all diagonal entries are non-negative. Therefore $x^T (A \\circ B) x \\geq 0$."
   ]
  },
  {
   "attachments": {},
   "cell_type": "markdown",
   "metadata": {},
   "source": [
    "## (F)\n",
    "#### Let $f: \\mathbb{R}^d \\to \\mathbb{R}$ be any function. Is $K(x,y) = f(x)f(y)$ a Mercer kernel?\n",
    "\n",
    "No, FILL IN"
   ]
  },
  {
   "attachments": {},
   "cell_type": "markdown",
   "metadata": {},
   "source": [
    "## (G)\n",
    "#### Let $\\phi : \\mathbb{R}^d \\to \\mathbb{R}^n$ be any function and let $K$ be a mercer kernel on $\\mathbb{R}^n \\times \\mathbb{R}^n$. Is $L(x,y) = K(\\phi(x),\\phi(y))$ a Mercer kernel?\n",
    "\n",
    "Yes,\n",
    "\n",
    "$$L(x,y) = K(\\phi(x),\\phi(y)) = K(\\phi(y),\\phi(x)) = K(y,x)$$\n",
    "\n",
    "and if $x_1 , \\dots x_n$ are points in $\\mathbb{R}^d$, then apply the Mercer condition 2. to the points $\\phi(x_j)$ to see that $L(x_i,x_j)$ is PSD."
   ]
  },
  {
   "attachments": {},
   "cell_type": "markdown",
   "metadata": {},
   "source": [
    "## (H)\n",
    "#### Let $p$ be a polynomial in one real variable with positive coefficients. Is p(K(x,y)) Mercer if $K$ is?\n",
    "\n",
    "Yes, apply parts (A),(C), and (E) repeatedly."
   ]
  }
 ],
 "metadata": {
  "language_info": {
   "name": "python"
  },
  "orig_nbformat": 4
 },
 "nbformat": 4,
 "nbformat_minor": 2
}
