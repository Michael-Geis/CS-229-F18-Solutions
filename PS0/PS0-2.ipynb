{
 "cells": [
  {
   "attachments": {},
   "cell_type": "markdown",
   "metadata": {},
   "source": [
    "# PS0-2: Positive Definite Matrices"
   ]
  },
  {
   "attachments": {},
   "cell_type": "markdown",
   "metadata": {},
   "source": [
    "## (A)\n",
    "Let $z \\in \\mathbb{R}^n$ be a (column) vector. Show that $A = zz^T$ is symmetric and positive semi-definite.\n",
    "\n",
    "#### Sol'n\n",
    "\n",
    "$A_{jk} = z_jz_k$ so it is symmetric. To see that it is PSD directly, note that for any $x \\in \\mathbb{R}^n$,\n",
    "\n",
    "$$Ax \\cdot x = z_jz_k x_jx_k = (z \\cdot x)^2 \\geq 0.$$\n"
   ]
  },
  {
   "attachments": {},
   "cell_type": "markdown",
   "metadata": {},
   "source": [
    "## (B)\n",
    "If $z$ is non-zero, what is the kernel of $A$ and what is its rank?\n",
    "\n",
    "#### Sol'n\n",
    "\n",
    "Notice that $A$ is an orthogonal projection onto the subspace spanned by $z$. Thus, it is rank one and its kernel is the orthogonal complement of the line spanned by $z$. This is another way to see that $A$ is PSD; it has eigenvalues $0$ and $||z||^2$."
   ]
  },
  {
   "attachments": {},
   "cell_type": "markdown",
   "metadata": {},
   "source": [
    "## (C)\n",
    "Let $A$ be an $n \\times n$ symmetric and positive definite matrix and $B$ be an arbitrary $m\\times n$ matrix. Is $B A B^T$ necessarily positive definite?\n",
    "\n",
    "#### Sol'n\n",
    "Yes. Given $x \\in \\mathbb{R}^m$, \n",
    "\n",
    "$$BAB^T x \\cdot x = AB^Tx \\cdot B^Tx \\geq 0$$\n",
    "\n",
    "since $A$ is PSD."
   ]
  }
 ],
 "metadata": {
  "kernelspec": {
   "display_name": "Python 3",
   "language": "python",
   "name": "python3"
  },
  "language_info": {
   "name": "python",
   "version": "3.10.11"
  },
  "orig_nbformat": 4
 },
 "nbformat": 4,
 "nbformat_minor": 2
}
