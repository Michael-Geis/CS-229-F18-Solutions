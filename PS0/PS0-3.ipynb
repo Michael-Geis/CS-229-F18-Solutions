{
 "cells": [
  {
   "attachments": {},
   "cell_type": "markdown",
   "metadata": {},
   "source": [
    "# PS0-3: Eigenvectors and Eigenvalues"
   ]
  },
  {
   "attachments": {},
   "cell_type": "markdown",
   "metadata": {},
   "source": [
    "## (A)\n",
    "Suppose that $A$ is an $n\\times n$ diagonalizable matrix, i.e. $D = T^{-1}AT$ is diagonal with entries $D_{ii} = \\lambda_i$. Let $t^{(i)}$ be column $i$ of $T$. Show that $At^{(i)} = \\lambda_i t^{(i)}$.\n",
    "\n",
    "#### Sol'n\n",
    "$TD = AT$. Column $i$ of the LHS is $\\lambda t^{(i)}$ and column $i$ of the RHS is $At^{(i)}$."
   ]
  },
  {
   "attachments": {},
   "cell_type": "markdown",
   "metadata": {},
   "source": [
    "## (B)\n",
    "Show that if $U$ is an orthogonal matrix so that $U^TAU = D$ is diagonal, then the same statement above holds.\n",
    "\n",
    "#### Sol'n\n",
    "\n",
    "$U^T = U^{-1}$ so (A) applies."
   ]
  },
  {
   "attachments": {},
   "cell_type": "markdown",
   "metadata": {},
   "source": [
    "## (C)\n",
    "Show that $A$ is symmetric and PSD iff all of its eigenvalues $\\lambda_i \\geq 0$.\n",
    "\n",
    "#### Sol'n\n",
    "\n",
    "$A$ is diagonalizable, so there is an orthogonal matrix $U$ so $U^TAU = D$ with eigenvalues $\\lambda_i$ on the diagonal of $D$. Given $y \\in \\mathbb{R}^n$, write $y = Ux$. Then $y^{T} = x^TU^T$ so\n",
    "\n",
    "$$y^T A y = x^TU^T A U x = x^TDx = \\lambda_i x_i^2 \\geq 0.$$"
   ]
  }
 ],
 "metadata": {
  "language_info": {
   "name": "python"
  },
  "orig_nbformat": 4
 },
 "nbformat": 4,
 "nbformat_minor": 2
}
