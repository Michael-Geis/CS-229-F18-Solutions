{
 "cells": [
  {
   "attachments": {},
   "cell_type": "markdown",
   "metadata": {},
   "source": [
    "# PS0-1: Gradients and Hessians"
   ]
  },
  {
   "attachments": {},
   "cell_type": "markdown",
   "metadata": {},
   "source": [
    "## (A)\n",
    "\n",
    "Calculate the gradient of $f(x) = \\frac{1}{2}Ax \\cdot x + b\\cdot x $\n",
    "\n",
    "\n",
    "#### Sol'n:\n",
    "\n",
    "$f(x) = \\frac{1}{2} A_{ij}x_ix_j + b_jx_j$, so $\\partial_{x_k}f = \\frac{1}{2}\\left(A_{kj}x_j + A_{jk}x_j\\right) + b_k$ or \n",
    "\n",
    " $$\\nabla f = \\frac{1}{2}(A + A^T)x + b.$$\n",
    "\n",
    " Since $A$ Is symmetric we get\n",
    "\n",
    "$$\\nabla f = Ax + b.$$\n"
   ]
  },
  {
   "attachments": {},
   "cell_type": "markdown",
   "metadata": {},
   "source": [
    "## (B) \n",
    "\n",
    "If $g : \\mathbb{R} \\to \\mathbb{R}$ and $h : \\mathbb{R}^n \\to \\mathbb{R}$, calculate $\\nabla g(h(x))$.\n",
    "\n",
    "#### Sol'n:\n",
    "\n",
    "$\\partial_{x_k}g(h(x)) = g'(h(x))\\partial_{x_k}h$, so $\\nabla g(h(x)) = g'(h(x)) \\nabla h(x)$. "
   ]
  },
  {
   "attachments": {},
   "cell_type": "markdown",
   "metadata": {},
   "source": [
    "## (C)\n",
    "\n",
    "for $f(x)$ as in part (A), what is the hessian, $\\nabla^2 f$?\n",
    "\n",
    "#### Sol'n\n",
    "\n",
    "The derivative of a linear function is itself, so $\\nabla^2 f = d_x (Ax) = A$. "
   ]
  },
  {
   "attachments": {},
   "cell_type": "markdown",
   "metadata": {},
   "source": [
    "## (D)\n",
    "\n",
    "Let $a \\in \\mathbb{R}^n$ and let $g$ be a real valued function on $\\mathbb{R}$. Calculate the gradient and hessian of $f(x) = g(a\\cdot x)$\n",
    "\n",
    "#### Sol'n\n",
    "\n",
    "Using (A) and (B), $\\nabla f(x) = g'(a \\cdot x )a$. The hessian is \n",
    "\n",
    "$$\\nabla^2 f(x) = g''(a \\cdot x)a \\otimes a$$\n",
    "\n",
    "Where $a\\otimes a$ is the outer product of $a$ with itself. If $a$ is a column vector, then $a\\otimes a = aa^T$. "
   ]
  }
 ],
 "metadata": {
  "kernelspec": {
   "display_name": "Python 3",
   "language": "python",
   "name": "python3"
  },
  "language_info": {
   "name": "python",
   "version": "3.10.11"
  },
  "orig_nbformat": 4
 },
 "nbformat": 4,
 "nbformat_minor": 2
}
