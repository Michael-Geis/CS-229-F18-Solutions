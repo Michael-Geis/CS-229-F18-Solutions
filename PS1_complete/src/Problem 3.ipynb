{
 "cells": [
  {
   "cell_type": "code",
   "execution_count": 1,
   "id": "ce34a644",
   "metadata": {},
   "outputs": [],
   "source": [
    "import util\n",
    "import linear_model\n",
    "from p03d_poisson import PoissonRegression\n",
    "import numpy as np\n"
   ]
  },
  {
   "cell_type": "code",
   "execution_count": 6,
   "id": "c35d3126",
   "metadata": {},
   "outputs": [],
   "source": [
    "x_train , y_train = util.load_dataset('../data/ds4_train.csv',add_intercept=True)\n",
    "x_valid , y_valid = util.load_dataset('../data/ds4_valid.csv',add_intercept=False)"
   ]
  },
  {
   "cell_type": "code",
   "execution_count": 8,
   "id": "a5f80af7",
   "metadata": {},
   "outputs": [],
   "source": [
    "## Train model and get predictions on the validation set.\n",
    "\n",
    "model = PoissonRegression()\n",
    "model.fit(x_train,y_train, lr=10 **(-7))\n",
    "y_predict = model.predict(x_valid)\n"
   ]
  },
  {
   "cell_type": "code",
   "execution_count": null,
   "id": "d6af5ae8",
   "metadata": {},
   "outputs": [],
   "source": []
  }
 ],
 "metadata": {
  "kernelspec": {
   "display_name": "Python 3 (ipykernel)",
   "language": "python",
   "name": "python3"
  },
  "language_info": {
   "codemirror_mode": {
    "name": "ipython",
    "version": 3
   },
   "file_extension": ".py",
   "mimetype": "text/x-python",
   "name": "python",
   "nbconvert_exporter": "python",
   "pygments_lexer": "ipython3",
   "version": "3.9.13"
  }
 },
 "nbformat": 4,
 "nbformat_minor": 5
}
