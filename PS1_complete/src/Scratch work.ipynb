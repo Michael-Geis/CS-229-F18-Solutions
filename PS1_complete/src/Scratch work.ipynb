{
 "cells": [
  {
   "cell_type": "code",
   "execution_count": 95,
   "id": "c0434ddf",
   "metadata": {},
   "outputs": [],
   "source": [
    "fields = ['au:' , 'ti:' , 'abs:' , 'cat:']\n",
    "\n",
    "lines = ['authors=' , 'title=' , 'abstract=', 'categories=SP' , 12313 , 'nonsense' ]"
   ]
  },
  {
   "cell_type": "code",
   "execution_count": 36,
   "id": "6800fcc2",
   "metadata": {
    "scrolled": true
   },
   "outputs": [
    {
     "data": {
      "text/plain": [
       "[('au:', 'authors=Steve Zelditch,Colin de Verdiere'),\n",
       " ('ti:', 'title='),\n",
       " ('abs:', 'abstract='),\n",
       " ('cat:', 'categories=SP,AP')]"
      ]
     },
     "execution_count": 36,
     "metadata": {},
     "output_type": "execute_result"
    }
   ],
   "source": [
    "[(k,v) for (k,v) in zip(fields, lines[:4])]"
   ]
  },
  {
   "cell_type": "code",
   "execution_count": 96,
   "id": "bab305b6",
   "metadata": {},
   "outputs": [
    {
     "name": "stdout",
     "output_type": "stream",
     "text": [
      "(cat:math.SP)\n"
     ]
    }
   ],
   "source": [
    "\n",
    "q = []\n",
    "\n",
    "for (k,v) in zip(fields,lines[:4]):\n",
    "    if v.endswith('='):\n",
    "        continue\n",
    "    elif k == 'au:':\n",
    "        names = v.split('=')[1].split(',')\n",
    "        names_formatted = ['\"{}\"'.format(name) for name in names ]\n",
    "        q.append('(' + k + ' OR '.join(names_formatted) + ')')\n",
    "    elif k == 'cat:':\n",
    "        cats = v.split('=')[1].split(',')\n",
    "        cats_as_string = k + ' OR '.join(['math.{}'.format(cat) for cat in cats])\n",
    "        q.append('(' + cats_as_string + ')')\n",
    "    else:\n",
    "        q.append('(' + k + '\"' + v.split('=')[1] + '\"' + ')')\n",
    "        \n",
    "string = ' AND '.join(q)\n",
    "    \n",
    "print(string)\n",
    "\n",
    "\n",
    "\n"
   ]
  },
  {
   "cell_type": "code",
   "execution_count": 92,
   "id": "00239957",
   "metadata": {},
   "outputs": [
    {
     "name": "stdout",
     "output_type": "stream",
     "text": [
      "http://export.arxiv.org/api/query\n"
     ]
    }
   ],
   "source": [
    "import requests\n",
    "\n",
    "r = requests.get('http://export.arxiv.org/api/query' , params = {})\n",
    "\n",
    "print(r.url)\n"
   ]
  },
  {
   "cell_type": "code",
   "execution_count": 17,
   "id": "be377303",
   "metadata": {},
   "outputs": [],
   "source": [
    "class Paper:\n",
    "    '''Stores the metadata of a paper returned by querying the ArXiv.'''\n",
    "    \n",
    "    def __init__(self, tag):\n",
    "        '''\n",
    "        Args:\n",
    "            tag: The bs4 tag of an 'entry' in an ArXiv query result bs4 object.\n",
    "\n",
    "        Attributes:\n",
    "            title: Title of the paper\n",
    "            abstract: Abstract of the paper\n",
    "            authors: A string containing the author names separated by commas.\n",
    "            published: date the paper was uploaded to the ArXiv in standard isoformat time. The timezone is GMT +0.\n",
    "        '''\n",
    "\n",
    "        self.title = tag.find('title').text\n",
    "        self.abstract = tag.find('summary').text\n",
    "        self.published = tag.find('published').text.replace('Z','')\n",
    "        self.id = tag.find('id').text\n",
    "        self.updated = tag.find('updated').text.replace('Z','')\n",
    "        self.category = None\n",
    "        self.authors = ','.join([author.find('name').text for author in tag.find_all('author')])\n",
    "\n"
   ]
  },
  {
   "cell_type": "code",
   "execution_count": 2,
   "id": "33467523",
   "metadata": {},
   "outputs": [],
   "source": [
    "class QueryResults(list):\n",
    "    pass"
   ]
  },
  {
   "cell_type": "code",
   "execution_count": 22,
   "id": "a9ac99c1",
   "metadata": {
    "scrolled": true
   },
   "outputs": [
    {
     "name": "stdout",
     "output_type": "stream",
     "text": [
      "Steve Zelditch\n",
      "Steve Zelditch\n",
      "Steve Zelditch\n",
      "Steve Zelditch\n",
      "Steve Zelditch\n",
      "Steve Zelditch\n",
      "Steve Zelditch\n",
      "Steve Zelditch\n",
      "Steve Zelditch\n",
      "Steve Zelditch\n",
      "Steve Zelditch\n",
      "Steve Zelditch\n",
      "Steve Zelditch\n",
      "Steve Zelditch\n",
      "Steve Zelditch\n",
      "Steve Zelditch\n",
      "Steve Zelditch\n",
      "Steve Zelditch\n",
      "Steve Zelditch\n",
      "Steve Zelditch\n",
      "Steve Zelditch\n",
      "Steve Zelditch\n",
      "Steve Zelditch\n",
      "Steve Zelditch\n",
      "Steve Zelditch\n",
      "Steve Zelditch\n",
      "Steve Zelditch\n",
      "Steve Zelditch\n",
      "Steve Zelditch\n",
      "Steve Zelditch\n",
      "Steve Zelditch\n",
      "Steve Zelditch\n",
      "Steve Zelditch\n",
      "Steve Zelditch\n",
      "Steve Zelditch\n",
      "Steve Zelditch\n",
      "Steve Zelditch\n",
      "Steve Zelditch\n",
      "Steve Zelditch\n",
      "Bernard Shiffman,Steve Zelditch\n",
      "Bernard Shiffman,Steve Zelditch\n",
      "Andrew Hassell,Steve Zelditch\n",
      "Bernard Shiffman,Steve Zelditch\n",
      "Bernard Shiffman,Steve Zelditch\n",
      "Andrew Hassell,Steve Zelditch\n",
      "Bernard Shiffman,Steve Zelditch\n",
      "Tatsuya Tate,Steve Zelditch\n",
      "Bernard Shiffman,Steve Zelditch\n",
      "Nalini Anantharaman,Steve Zelditch\n",
      "Bernard Shiffman,Steve Zelditch\n",
      "Jian Song,Steve Zelditch\n",
      "Steve Zelditch,Maciej Zworski\n",
      "John Toth,Steve Zelditch\n",
      "Jian Song,Steve Zelditch\n",
      "Bernard Shiffman,Steve Zelditch\n",
      "Jian Song,Steve Zelditch\n",
      "Hamid Hezari,Steve Zelditch\n",
      "John Toth,Steve Zelditch\n",
      "Hamid Hezari,Steve Zelditch\n",
      "Renjie Feng,Steve Zelditch\n",
      "Nalini Anantharaman,Steve Zelditch\n",
      "Bernard Shiffman,Steve Zelditch\n",
      "Renjie Feng,Steve Zelditch\n",
      "Renjie Feng,Steve Zelditch\n",
      "Renjie Feng,Steve Zelditch\n",
      "Zhiqin Lu,Steve Zelditch\n",
      "Junehyuk Jung,Steve Zelditch\n",
      "Junehyuk Jung,Steve Zelditch\n",
      "Semyon Klevtsov,Steve Zelditch\n",
      "Chris Sogge,Steve Zelditch\n",
      "Renjie Feng,Steve Zelditch\n",
      "Semyon Klevtsov,Steve Zelditch\n",
      "Yannick Bonthonneau,Steve Zelditch\n",
      "Steve Zelditch,Peng Zhou\n",
      "Robert Chang,Steve Zelditch\n",
      "Steve Zelditch,Peng Zhou\n",
      "Steve Zelditch,Peng Zhou\n",
      "Steve Zelditch,Peng Zhou\n",
      "Pierre Flurin,Steve Zelditch\n",
      "Junehyuk Jung,Steve Zelditch\n",
      "Moritz Doll,Steve Zelditch\n",
      "Robert Chang,Steve Zelditch\n",
      "Alexander Strohmaier,Steve Zelditch\n",
      "Boris Hanin,Steve Zelditch\n",
      "Boris Hanin,Steve Zelditch\n",
      "Junehyuk Jung,Steve Zelditch\n",
      "Steve Zelditch,Peng Zhou\n",
      "Hamid Hezari,Steve Zelditch\n",
      "Alexander Strohmaier,Steve Zelditch\n",
      "Jeffrey Galkowski,Steve Zelditch\n",
      "Hamid Hezari,Steve Zelditch\n",
      "Sean Gomes,Steve Zelditch\n",
      "Hamid Hezari,Steve Zelditch\n",
      "Junehyuk Jung,Steve Zelditch\n",
      "Boris Hanin,Steve Zelditch\n",
      "Alix Deleporte,Steve Zelditch\n",
      "Bernard Shiffman,Steve Zelditch\n",
      "Christopher D. Sogge,Steve Zelditch\n",
      "John A. Toth,Steve Zelditch\n",
      "John A. Toth,Steve Zelditch\n"
     ]
    }
   ],
   "source": [
    "import requests\n",
    "from bs4 import BeautifulSoup\n",
    "\n",
    "query_params = { 'search_query' : 'au:\"Steve Zelditch\"' , 'max_results' : 100 }\n",
    "\n",
    "source = requests.get('http://export.arxiv.org/api/query', params = query_params)\n",
    "soup = BeautifulSoup(source.content, 'xml')\n",
    "\n",
    "query_results = QueryResults(Paper(entry) for entry in soup.find_all('entry'))\n",
    "\n",
    "for paper in query_results:\n",
    "    print(paper.authors)\n"
   ]
  },
  {
   "cell_type": "code",
   "execution_count": 64,
   "id": "c93ae323",
   "metadata": {},
   "outputs": [
    {
     "name": "stdout",
     "output_type": "stream",
     "text": [
      "Restriction of eigenfunctions to totally geodesic submanifolds submitted at: 2022-06-11T17:36:40\n",
      "$2$-nodal domain theorems for higher dimensional circle bundles submitted at: 2022-07-27T12:50:35\n",
      "Scaling asymptotics of spectral Wigner functions submitted at: 2022-07-27T15:10:54\n"
     ]
    },
    {
     "data": {
      "text/plain": [
       "__main__.QueryResults"
      ]
     },
     "execution_count": 64,
     "metadata": {},
     "output_type": "execute_result"
    }
   ],
   "source": [
    "from datetime import datetime, tzinfo, timedelta\n",
    "\n",
    "last_year = QueryResults(paper for paper in query_results if (datetime.fromisoformat(paper.published) > datetime.now() + timedelta(weeks=-52)) and (datetime.now() + timedelta(weeks=-30) > datetime.fromisoformat(paper.published)) )\n",
    "\n",
    "for paper in last_year:\n",
    "    print(paper.title , 'submitted at: {}'.format(paper.published))\n",
    "    \n",
    "type(last_year)"
   ]
  },
  {
   "cell_type": "code",
   "execution_count": 61,
   "id": "ed09388b",
   "metadata": {
    "scrolled": true
   },
   "outputs": [
    {
     "name": "stdout",
     "output_type": "stream",
     "text": [
      "Empty DataFrame\n",
      "Columns: [id, title, authors, abstract, published, updated]\n",
      "Index: []\n"
     ]
    },
    {
     "data": {
      "text/plain": [
       "id                           http://arxiv.org/abs/2206.05574v1\n",
       "title        Restriction of eigenfunctions to totally geode...\n",
       "authors                                         Steve Zelditch\n",
       "abstract       This article is about two types of restricti...\n",
       "published                                  2022-06-11T17:36:40\n",
       "updated                                    2022-06-11T17:36:40\n",
       "dtype: object"
      ]
     },
     "execution_count": 61,
     "metadata": {},
     "output_type": "execute_result"
    }
   ],
   "source": [
    "import pandas as pd\n",
    "\n",
    "df = pd.DataFrame(columns=['id','title','authors','abstract','published','updated'])\n",
    "\n",
    "print(df)\n",
    "\n",
    "cols = ['id','title','authors','abstract','published','updated']\n",
    "\n",
    "pd.Series(index=['id','title','authors','abstract','published','updated'] , data=[last_year[0].id , last_year[0].title , last_year[0].authors , last_year[0].abstract , last_year[0].published , last_year[0].updated ])"
   ]
  },
  {
   "cell_type": "code",
   "execution_count": 74,
   "id": "3736c8df",
   "metadata": {
    "scrolled": true
   },
   "outputs": [
    {
     "data": {
      "text/html": [
       "<div>\n",
       "<style scoped>\n",
       "    .dataframe tbody tr th:only-of-type {\n",
       "        vertical-align: middle;\n",
       "    }\n",
       "\n",
       "    .dataframe tbody tr th {\n",
       "        vertical-align: top;\n",
       "    }\n",
       "\n",
       "    .dataframe thead th {\n",
       "        text-align: right;\n",
       "    }\n",
       "</style>\n",
       "<table border=\"1\" class=\"dataframe\">\n",
       "  <thead>\n",
       "    <tr style=\"text-align: right;\">\n",
       "      <th></th>\n",
       "      <th>id</th>\n",
       "      <th>title</th>\n",
       "      <th>authors</th>\n",
       "      <th>abstract</th>\n",
       "      <th>published</th>\n",
       "      <th>updated</th>\n",
       "    </tr>\n",
       "  </thead>\n",
       "  <tbody>\n",
       "    <tr>\n",
       "      <th>0</th>\n",
       "      <td>http://arxiv.org/abs/2206.05574v1</td>\n",
       "      <td>Restriction of eigenfunctions to totally geode...</td>\n",
       "      <td>Steve Zelditch</td>\n",
       "      <td>This article is about two types of restricti...</td>\n",
       "      <td>2022-06-11T17:36:40</td>\n",
       "      <td>2022-06-11T17:36:40</td>\n",
       "    </tr>\n",
       "    <tr>\n",
       "      <th>1</th>\n",
       "      <td>http://arxiv.org/abs/2207.13498v1</td>\n",
       "      <td>$2$-nodal domain theorems for higher dimension...</td>\n",
       "      <td>Junehyuk Jung,Steve Zelditch</td>\n",
       "      <td>We prove that the real parts of equivariant ...</td>\n",
       "      <td>2022-07-27T12:50:35</td>\n",
       "      <td>2022-07-27T12:50:35</td>\n",
       "    </tr>\n",
       "    <tr>\n",
       "      <th>2</th>\n",
       "      <td>http://arxiv.org/abs/2207.13571v2</td>\n",
       "      <td>Scaling asymptotics of spectral Wigner functions</td>\n",
       "      <td>Boris Hanin,Steve Zelditch</td>\n",
       "      <td>We prove that smooth Wigner-Weyl spectral su...</td>\n",
       "      <td>2022-07-27T15:10:54</td>\n",
       "      <td>2022-07-28T05:42:37</td>\n",
       "    </tr>\n",
       "  </tbody>\n",
       "</table>\n",
       "</div>"
      ],
      "text/plain": [
       "                                  id  \\\n",
       "0  http://arxiv.org/abs/2206.05574v1   \n",
       "1  http://arxiv.org/abs/2207.13498v1   \n",
       "2  http://arxiv.org/abs/2207.13571v2   \n",
       "\n",
       "                                               title  \\\n",
       "0  Restriction of eigenfunctions to totally geode...   \n",
       "1  $2$-nodal domain theorems for higher dimension...   \n",
       "2   Scaling asymptotics of spectral Wigner functions   \n",
       "\n",
       "                        authors  \\\n",
       "0                Steve Zelditch   \n",
       "1  Junehyuk Jung,Steve Zelditch   \n",
       "2    Boris Hanin,Steve Zelditch   \n",
       "\n",
       "                                            abstract            published  \\\n",
       "0    This article is about two types of restricti...  2022-06-11T17:36:40   \n",
       "1    We prove that the real parts of equivariant ...  2022-07-27T12:50:35   \n",
       "2    We prove that smooth Wigner-Weyl spectral su...  2022-07-27T15:10:54   \n",
       "\n",
       "               updated  \n",
       "0  2022-06-11T17:36:40  \n",
       "1  2022-07-27T12:50:35  \n",
       "2  2022-07-28T05:42:37  "
      ]
     },
     "execution_count": 74,
     "metadata": {},
     "output_type": "execute_result"
    }
   ],
   "source": [
    "\n",
    "df = pd.DataFrame(columns=['id','title','authors','abstract','published','updated'])\n",
    "\n",
    "for paper in last_year:\n",
    "    row = pd.Series(\n",
    "                \n",
    "    index=['id','title','authors','abstract','published','updated'],\n",
    "    data=[paper.id , paper.title , paper.authors , paper.abstract , paper.published , paper.updated]\n",
    "                \n",
    "    )\n",
    "    \n",
    "    df = pd.concat([df , row.to_frame().transpose()] , axis=0)\n",
    "    \n"
   ]
  },
  {
   "cell_type": "code",
   "execution_count": 26,
   "id": "e840fc52",
   "metadata": {},
   "outputs": [],
   "source": [
    "import requests \n",
    "from bs4 import BeautifulSoup\n",
    "\n",
    "def get_results(params):\n",
    "    '''\n",
    "    Sets the results attribute to the QueryResults list containing\n",
    "    each paper returned by querying the ArXiv with self.query_params.   \n",
    "    '''    \n",
    "    try:\n",
    "        if not params:\n",
    "            raise Exception()\n",
    "        else:\n",
    "            source = requests.get('http://export.arxiv.org/api/query', params = params)\n",
    "            soup = BeautifulSoup(source.content, 'xml')\n",
    "            results = [entry for entry in soup.find_all(entries)]\n",
    "    except:\n",
    "        pass"
   ]
  },
  {
   "cell_type": "code",
   "execution_count": 32,
   "id": "e67eabc3",
   "metadata": {},
   "outputs": [
    {
     "name": "stdout",
     "output_type": "stream",
     "text": [
      "None\n"
     ]
    }
   ],
   "source": [
    "params = None\n",
    "\n",
    "get_results(params)\n",
    "\n",
    "print(results)"
   ]
  },
  {
   "cell_type": "code",
   "execution_count": 42,
   "id": "d5a46173",
   "metadata": {},
   "outputs": [
    {
     "name": "stdout",
     "output_type": "stream",
     "text": [
      "Here are some lines\n",
      "\n"
     ]
    },
    {
     "data": {
      "text/plain": [
       "'Here are some lines\\n'"
      ]
     },
     "execution_count": 42,
     "metadata": {},
     "output_type": "execute_result"
    }
   ],
   "source": [
    "with open('test.txt', 'r') as file:\n",
    "    line = file.readline()\n",
    "\n",
    "print(line)\n",
    "\n",
    "line"
   ]
  },
  {
   "cell_type": "code",
   "execution_count": 46,
   "id": "81f5b229",
   "metadata": {},
   "outputs": [
    {
     "name": "stdout",
     "output_type": "stream",
     "text": [
      "[1 2 3 4] (4,)\n",
      "[[1]\n",
      " [2]\n",
      " [3]\n",
      " [4]] (4, 1)\n"
     ]
    }
   ],
   "source": [
    "import numpy as np\n",
    "\n",
    "array = np.array([1,2,3,4])\n",
    "\n",
    "print(array , array.shape)\n",
    "\n",
    "array = np.expand_dims(array , -1)\n",
    "\n",
    "print(array, array.shape)"
   ]
  },
  {
   "cell_type": "code",
   "execution_count": 49,
   "id": "cddfd09b",
   "metadata": {},
   "outputs": [
    {
     "name": "stdout",
     "output_type": "stream",
     "text": [
      "(4, 1) 2\n"
     ]
    }
   ],
   "source": [
    "z = np.array([1,2,3,4])\n",
    "\n",
    "z.shape\n",
    "\n",
    "z.ndim\n",
    "\n",
    "z_reshaped = np.expand_dims(z , axis=-1)\n",
    "\n",
    "print(z_reshaped.shape , z_reshaped.ndim)"
   ]
  },
  {
   "cell_type": "code",
   "execution_count": 30,
   "id": "7e41e608",
   "metadata": {},
   "outputs": [
    {
     "data": {
      "text/plain": [
       "(3,)"
      ]
     },
     "execution_count": 30,
     "metadata": {},
     "output_type": "execute_result"
    }
   ],
   "source": [
    "import numpy as np\n",
    "\n",
    "X = np.array([[1,2] , [0,2] , [5,0]])\n",
    "\n",
    "y = np.array([1,1,0])\n",
    "\n",
    "(X @ np.array([0,0])).shape\n"
   ]
  },
  {
   "cell_type": "code",
   "execution_count": 100,
   "id": "0fabec08",
   "metadata": {},
   "outputs": [],
   "source": [
    "import matplotlib.pyplot as plt\n",
    "import numpy as np\n",
    "\n",
    "def plot(x, y, include_decision=False, theta=np.zeros(3), save_path=None, correction=1.0):\n",
    "    \"\"\"Plot dataset and fitted logistic regression parameters.\n",
    "    Args:\n",
    "        x: Matrix of training examples, one per row.\n",
    "        y: Vector of labels in {0, 1}.\n",
    "        theta: Vector of parameters for logistic regression model.\n",
    "        save_path: Path to save the plot.\n",
    "        correction: Correction factor to apply (Problem 2(e) only).\n",
    "    \"\"\"\n",
    "    # Plot dataset\n",
    "    plt.figure()\n",
    "    plt.plot(x[y == 1, -2], x[y == 1, -1], 'bx', linewidth=2)\n",
    "    plt.plot(x[y == 0, -2], x[y == 0, -1], 'go', linewidth=2)\n",
    "\n",
    "    # Plot decision boundary (found by solving for theta^T x = 0)\n",
    "    if include_decision:\n",
    "        margin1 = (max(x[:, -2]) - min(x[:, -2]))*0.2\n",
    "        margin2 = (max(x[:, -1]) - min(x[:, -1]))*0.2\n",
    "        x1 = np.arange(min(x[:, -2])-margin1, max(x[:, -2])+margin1, 0.01)\n",
    "        \n",
    "        if theta[2] == 0:\n",
    "            raise ValueError('Bad theta')\n",
    "        x2 = -(theta[0] / theta[2] * correction + theta[1] / theta[2] * x1)\n",
    "        plt.plot(x1, x2, c='red', linewidth=2)\n",
    "        plt.xlim(x[:, -2].min()-margin1, x[:, -2].max()+margin1)\n",
    "        plt.ylim(x[:, -1].min()-margin2, x[:, -1].max()+margin2)\n",
    "\n",
    "    # Add labels and save to disk\n",
    "    plt.xlabel('x1')\n",
    "    plt.ylabel('x2')\n",
    "    if save_path is not None:\n",
    "        plt.savefig(save_path)"
   ]
  },
  {
   "cell_type": "code",
   "execution_count": 37,
   "id": "d02cb495",
   "metadata": {
    "scrolled": true
   },
   "outputs": [
    {
     "data": {
      "image/png": "[encoded data removed]",
      "text/plain": [
       "<Figure size 640x480 with 1 Axes>"
      ]
     },
     "metadata": {},
     "output_type": "display_data"
    }
   ],
   "source": [
    "import util\n",
    "import linear_model\n",
    "from p01b_logreg import LogisticRegression\n",
    "\n",
    "x_train , y_train = util.load_dataset('../data/ds1_train.csv')\n",
    "\n",
    "util.plot(x_train,y_train)\n",
    "\n"
   ]
  },
  {
   "cell_type": "code",
   "execution_count": 41,
   "id": "9485615e",
   "metadata": {},
   "outputs": [
    {
     "name": "stdout",
     "output_type": "stream",
     "text": [
      "Help on LogisticRegression in module p01b_logreg object:\n",
      "\n",
      "class LogisticRegression(linear_model.LinearModel)\n",
      " |  LogisticRegression(step_size=0.2, max_iter=100, eps=1e-05, theta_0=None, verbose=True)\n",
      " |  \n",
      " |  Logistic regression with Newton's Method as the solver.\n",
      " |  \n",
      " |  Example usage:\n",
      " |      > clf = LogisticRegression()\n",
      " |      > clf.fit(x_train, y_train)\n",
      " |      > clf.predict(x_eval)\n",
      " |  \n",
      " |  Method resolution order:\n",
      " |      LogisticRegression\n",
      " |      linear_model.LinearModel\n",
      " |      builtins.object\n",
      " |  \n",
      " |  Methods defined here:\n",
      " |  \n",
      " |  fit(self, x, y)\n",
      " |      Run Newton's Method to minimize J(theta) for logistic regression.\n",
      " |      \n",
      " |      Args:\n",
      " |          x: Training example inputs. Shape (m, n).\n",
      " |          y: Training example labels. Shape (m,).\n",
      " |  \n",
      " |  predict(self, x)\n",
      " |      Make a prediction given new inputs x.\n",
      " |      \n",
      " |      Args:\n",
      " |          x: Inputs of shape (m, n).\n",
      " |      \n",
      " |      Returns:\n",
      " |          Outputs of shape (m,).\n",
      " |  \n",
      " |  ----------------------------------------------------------------------\n",
      " |  Methods inherited from linear_model.LinearModel:\n",
      " |  \n",
      " |  __init__(self, step_size=0.2, max_iter=100, eps=1e-05, theta_0=None, verbose=True)\n",
      " |      Args:\n",
      " |          step_size: Step size for iterative solvers only.\n",
      " |          max_iter: Maximum number of iterations for the solver.\n",
      " |          eps: Threshold for determining convergence.\n",
      " |          theta_0: Initial guess for theta. If None, use the zero vector.\n",
      " |          verbose: Print loss values during training.\n",
      " |  \n",
      " |  ----------------------------------------------------------------------\n",
      " |  Data descriptors inherited from linear_model.LinearModel:\n",
      " |  \n",
      " |  __dict__\n",
      " |      dictionary for instance variables (if defined)\n",
      " |  \n",
      " |  __weakref__\n",
      " |      list of weak references to the object (if defined)\n",
      "\n"
     ]
    }
   ],
   "source": [
    "import util\n",
    "import linear_model\n",
    "from p01b_logreg import LogisticRegression\n",
    "\n",
    "x_train , y_train = util.load_dataset('../data/ds1_train.csv' , add_intercept=True)\n",
    "\n",
    "logreg = LogisticRegression()\n",
    "theta = np.zeros(3)\n",
    "\n",
    "help(logreg)"
   ]
  },
  {
   "cell_type": "code",
   "execution_count": 5,
   "id": "24ea6e06",
   "metadata": {},
   "outputs": [
    {
     "name": "stdout",
     "output_type": "stream",
     "text": [
      "looped 6 times\n",
      "1.3574728704170058e-07\n"
     ]
    }
   ],
   "source": [
    "import util\n",
    "import linear_model\n",
    "from p01b_logreg import LogisticRegression\n",
    "import numpy as np\n",
    "\n",
    "model = LogisticRegression()\n",
    "\n",
    "x_train , y_train = util.load_dataset('../data/ds1_train.csv' , add_intercept=True)\n",
    "\n",
    "model = LogisticRegression()\n",
    "model.fit(x_train,y_train)\n",
    "\n",
    "theta = model.theta"
   ]
  },
  {
   "cell_type": "code",
   "execution_count": 6,
   "id": "096ff88c",
   "metadata": {
    "scrolled": true
   },
   "outputs": [
    {
     "data": {
      "image/png": "[encoded data removed]",
      "text/plain": [
       "<Figure size 640x480 with 1 Axes>"
      ]
     },
     "metadata": {},
     "output_type": "display_data"
    }
   ],
   "source": [
    "util.plot(x_train,y_train, include_decision=True, theta=theta)"
   ]
  },
  {
   "cell_type": "code",
   "execution_count": 23,
   "id": "dd7be57a",
   "metadata": {},
   "outputs": [
    {
     "name": "stdout",
     "output_type": "stream",
     "text": [
      "[[ 1  2  4]\n",
      " [ 2  6  8]\n",
      " [-1  0 29]]\n",
      "[[ 4  8 29]]\n",
      "[[ -3  -6 -25]\n",
      " [ -2  -2 -21]\n",
      " [ -5  -8   0]]\n"
     ]
    },
    {
     "data": {
      "text/plain": [
       "array([[ 1,  0,  0],\n",
       "       [ 0,  6,  0],\n",
       "       [ 0,  0, 29]])"
      ]
     },
     "execution_count": 23,
     "metadata": {},
     "output_type": "execute_result"
    }
   ],
   "source": [
    "import numpy as np\n",
    "\n",
    "A = np.array([[0,0,1]])\n",
    "\n",
    "def mul(z):\n",
    "    return A @ z\n",
    "## This function takes in a vector in R3 and returns its third component.\n",
    "\n",
    "B = np.array([[1,2,4],[2,6,8],[-1,0,29]])\n",
    "\n",
    "\n",
    "print(B)\n",
    "\n",
    "out = np.apply_along_axis(func1d=mul, arr=B, axis=1)\n",
    "\n",
    "out = out.reshape((1,3))\n",
    "print(out)\n",
    "print(B - out)\n",
    "\n",
    "d = np.diag(B)\n",
    "\n",
    "np.diag(d)"
   ]
  },
  {
   "cell_type": "code",
   "execution_count": 26,
   "id": "0e9ea469",
   "metadata": {},
   "outputs": [
    {
     "data": {
      "text/plain": [
       "array([[[  1,   2,   4],\n",
       "        [  2,   4,   8],\n",
       "        [  4,   8,  16]],\n",
       "\n",
       "       [[  4,  12,  16],\n",
       "        [ 12,  36,  48],\n",
       "        [ 16,  48,  64]],\n",
       "\n",
       "       [[  1,   0, -29],\n",
       "        [  0,   0,   0],\n",
       "        [-29,   0, 841]]])"
      ]
     },
     "execution_count": 26,
     "metadata": {},
     "output_type": "execute_result"
    }
   ],
   "source": [
    "## Testing out the applying along rows functionality to get a 3 dim output.\n",
    "\n",
    "def outer(z):\n",
    "    return np.multiply.outer(z,z)\n",
    "\n",
    "np.apply_along_axis(func1d=outer,arr=B,axis=1)"
   ]
  },
  {
   "cell_type": "code",
   "execution_count": 36,
   "id": "c5e90809",
   "metadata": {},
   "outputs": [
    {
     "data": {
      "text/plain": [
       "(3, 3)"
      ]
     },
     "execution_count": 36,
     "metadata": {},
     "output_type": "execute_result"
    }
   ],
   "source": [
    "W = np.ones((3,3,3))\n",
    "\n",
    "x = np.array([[1,2],[3,4],[5,6]])\n",
    "\n",
    "# compare\n",
    "\n",
    "(x.T @ W @ x).shape\n",
    "\n",
    "y = np.array([1,2,3])\n",
    "\n",
    "(W @ y)[0:]\n",
    "\n"
   ]
  },
  {
   "cell_type": "code",
   "execution_count": 21,
   "id": "10ee9ba2",
   "metadata": {
    "scrolled": true
   },
   "outputs": [
    {
     "data": {
      "image/png": "[encoded data removed]",
      "text/plain": [
       "<Figure size 2000x1000 with 2 Axes>"
      ]
     },
     "metadata": {},
     "output_type": "display_data"
    }
   ],
   "source": [
    "import util\n",
    "from p05b_lwr import LocallyWeightedLinearRegression\n",
    "import matplotlib.pyplot as plt\n",
    "\n",
    "\n",
    "x_train , y_train = util.load_dataset('../data/ds5_train.csv', add_intercept=True)\n",
    "x_test , y_test = util.load_dataset('../data/ds5_test.csv', add_intercept=True)\n",
    "x_valid , y_valid = util.load_dataset('../data/ds5_valid.csv',add_intercept=True)\n",
    "\n",
    "model = LocallyWeightedLinearRegression(tau=0.5)\n",
    "model.fit(x_train,y_train)\n",
    "y_preds = model.predict(x_test)\n",
    "train_preds = model.predict(x_train)\n",
    "\n",
    "x , _ = util.load_dataset('../data/ds5_test.csv')\n",
    "\n",
    "fig_train , ax_train = plt.subplots()\n",
    "\n",
    "ax_train.plot(x_train[:,-1] , y_train , 'bx', linewidth=2)\n",
    "ax_train.set_title('Training set')\n",
    "ax_train.set_ylabel('Outputs')\n",
    "ax_train.set_xlabel('Inputs')\n",
    "\n",
    "ax2.plot(x_test[:,-1] , y_test , 'bx', linewidth=2)\n",
    "ax2.set_title('Test set')\n",
    "\n",
    "plt.show()"
   ]
  },
  {
   "cell_type": "code",
   "execution_count": 20,
   "id": "d46b5e61",
   "metadata": {},
   "outputs": [
    {
     "data": {
      "image/png": "[encoded data removed]",
      "text/plain": [
       "<Figure size 640x480 with 1 Axes>"
      ]
     },
     "metadata": {},
     "output_type": "display_data"
    }
   ],
   "source": [
    "## Plot the validation set as well:\n",
    "\n",
    "fig_valid , ax3 = plt.subplots()\n",
    "\n",
    "ax3.set_title('Validation set')\n",
    "ax3.set_xlabel('Inputs')\n",
    "ax3.set_ylabel('Outputs')\n",
    "\n",
    "ax3.plot(x_valid[:,-1] , y_valid, 'bx', linewidth=2)\n",
    "plt.show()"
   ]
  },
  {
   "cell_type": "code",
   "execution_count": null,
   "id": "7c362fe0",
   "metadata": {},
   "outputs": [],
   "source": []
  }
 ],
 "metadata": {
  "kernelspec": {
   "display_name": "Python 3 (ipykernel)",
   "language": "python",
   "name": "python3"
  },
  "language_info": {
   "codemirror_mode": {
    "name": "ipython",
    "version": 3
   },
   "file_extension": ".py",
   "mimetype": "text/x-python",
   "name": "python",
   "nbconvert_exporter": "python",
   "pygments_lexer": "ipython3",
   "version": "3.9.13"
  }
 },
 "nbformat": 4,
 "nbformat_minor": 5
}
